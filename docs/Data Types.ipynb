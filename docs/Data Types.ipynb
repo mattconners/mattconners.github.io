{
 "cells": [
  {
   "cell_type": "markdown",
   "metadata": {},
   "source": [
    "# 1. Data Types\n",
    "* Intgers - whole numbers\n",
    "* Float - numbers with decimal points\n",
    "* Strings - text\n",
    "* Boolean - true false"
   ]
  },
  {
   "cell_type": "markdown",
   "metadata": {},
   "source": [
    "# 1.1  Integers"
   ]
  },
  {
   "cell_type": "code",
   "execution_count": 10,
   "metadata": {},
   "outputs": [],
   "source": [
    "x=3\n",
    "y=2"
   ]
  },
  {
   "cell_type": "code",
   "execution_count": 11,
   "metadata": {},
   "outputs": [
    {
     "name": "stdout",
     "output_type": "stream",
     "text": [
      "5\n",
      "1\n",
      "6\n",
      "1.5\n",
      "1\n",
      "3\n",
      "9\n"
     ]
    }
   ],
   "source": [
    "# Addition\n",
    "print(x + y)\n",
    "\n",
    "# Subtraction\n",
    "print(x - y)\n",
    "\n",
    "# Multiplication\n",
    "print(x * y)\n",
    "\n",
    "# Quotient\n",
    "print(x / y)\n",
    "\n",
    "# Remainder\n",
    "print(x % y) \n",
    "\n",
    "# Absolute value\n",
    "print(abs(x))\n",
    "\n",
    "# x to the power y\n",
    "print(x ** y)"
   ]
  },
  {
   "cell_type": "markdown",
   "metadata": {},
   "source": [
    "## 1.2 Floating"
   ]
  },
  {
   "cell_type": "code",
   "execution_count": 12,
   "metadata": {},
   "outputs": [],
   "source": [
    "x=3.5\n",
    "y=2.1"
   ]
  },
  {
   "cell_type": "code",
   "execution_count": 13,
   "metadata": {},
   "outputs": [
    {
     "name": "stdout",
     "output_type": "stream",
     "text": [
      "5.6\n",
      "1.4\n",
      "7.3500000000000005\n",
      "1.6666666666666665\n",
      "1.4\n",
      "3.5\n",
      "13.884904375466046\n"
     ]
    }
   ],
   "source": [
    "# Addition\n",
    "print(x + y)\n",
    "\n",
    "# Subtraction\n",
    "print(x - y)\n",
    "\n",
    "# Multiplication\n",
    "print(x * y)\n",
    "\n",
    "# Quotient\n",
    "print(x / y)\n",
    "\n",
    "# Remainder\n",
    "print(x % y) \n",
    "\n",
    "# Absolute value\n",
    "print(abs(x))\n",
    "\n",
    "# x to the power y\n",
    "print(x ** y)"
   ]
  },
  {
   "cell_type": "markdown",
   "metadata": {},
   "source": []
  },
  {
   "cell_type": "markdown",
   "metadata": {},
   "source": [
    "## 1.3 String"
   ]
  },
  {
   "cell_type": "markdown",
   "metadata": {},
   "source": [
    "Strings are collections of alphabets, words or other characters. In Python, you can create strings by enclosing a sequence of characters within a pair of single or double quotes. For example: 'cake', \"cookie\", etc."
   ]
  },
  {
   "cell_type": "code",
   "execution_count": 14,
   "metadata": {},
   "outputs": [
    {
     "data": {
      "text/plain": [
       "'Bonnie & Clyde'"
      ]
     },
     "execution_count": 14,
     "metadata": {},
     "output_type": "execute_result"
    }
   ],
   "source": [
    "x = 'Bonnie'\n",
    "y = 'Clyde'\n",
    "\n",
    "x + ' & ' + y\n"
   ]
  },
  {
   "cell_type": "code",
   "execution_count": 15,
   "metadata": {},
   "outputs": [
    {
     "name": "stdout",
     "output_type": "stream",
     "text": [
      "Bonnie & Clyde\n"
     ]
    }
   ],
   "source": [
    "#using print statement gets rid of single quotes\n",
    "print(x + ' & ' + y)"
   ]
  },
  {
   "cell_type": "code",
   "execution_count": 16,
   "metadata": {},
   "outputs": [
    {
     "name": "stdout",
     "output_type": "stream",
     "text": [
      "nnie\n",
      "Cl\n"
     ]
    }
   ],
   "source": [
    "# Can slice text ranges\n",
    "z = x[2:] \n",
    "\n",
    "print(z)\n",
    "\n",
    "# Slicing\n",
    "zz = y[0] + y[1] \n",
    "\n",
    "print(zz)"
   ]
  },
  {
   "cell_type": "markdown",
   "metadata": {},
   "source": [
    "## 1.4 Boolean\n",
    "takes the value of true or false\n",
    "\n"
   ]
  },
  {
   "cell_type": "code",
   "execution_count": 17,
   "metadata": {},
   "outputs": [
    {
     "data": {
      "text/plain": [
       "False"
      ]
     },
     "execution_count": 17,
     "metadata": {},
     "output_type": "execute_result"
    }
   ],
   "source": [
    "x=1\n",
    "y=2\n",
    "z = (x==y)\n",
    "z"
   ]
  },
  {
   "cell_type": "code",
   "execution_count": 18,
   "metadata": {},
   "outputs": [
    {
     "data": {
      "text/plain": [
       "False"
      ]
     },
     "execution_count": 18,
     "metadata": {},
     "output_type": "execute_result"
    }
   ],
   "source": [
    "x > y"
   ]
  },
  {
   "cell_type": "code",
   "execution_count": 19,
   "metadata": {},
   "outputs": [
    {
     "data": {
      "text/plain": [
       "True"
      ]
     },
     "execution_count": 19,
     "metadata": {},
     "output_type": "execute_result"
    }
   ],
   "source": [
    "y>x"
   ]
  },
  {
   "cell_type": "markdown",
   "metadata": {},
   "source": [
    "Booleans used in a conditional "
   ]
  },
  {
   "cell_type": "code",
   "execution_count": 20,
   "metadata": {},
   "outputs": [
    {
     "name": "stdout",
     "output_type": "stream",
     "text": [
      "No Cookie\n"
     ]
    }
   ],
   "source": [
    "x = 2\n",
    "y = 1\n",
    "z = (x==y) # evaluates to false\n",
    "\n",
    "if z: # Conditional on truth/false value of 'z'\n",
    "    print(\"Cookie\") #if value was true\n",
    "else: print(\"No Cookie\") #if boolean was false"
   ]
  },
  {
   "cell_type": "code",
   "execution_count": null,
   "metadata": {},
   "outputs": [],
   "source": []
  }
 ],
 "metadata": {
  "kernelspec": {
   "display_name": "Python 3",
   "language": "python",
   "name": "python3"
  },
  "language_info": {
   "codemirror_mode": {
    "name": "ipython",
    "version": 3
   },
   "file_extension": ".py",
   "mimetype": "text/x-python",
   "name": "python",
   "nbconvert_exporter": "python",
   "pygments_lexer": "ipython3",
   "version": "3.7.4"
  }
 },
 "nbformat": 4,
 "nbformat_minor": 2
}
